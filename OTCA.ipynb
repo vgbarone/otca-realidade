{
  "nbformat": 4,
  "nbformat_minor": 0,
  "metadata": {
    "colab": {
      "provenance": [],
      "mount_file_id": "1gmmizYV551eAx7lRA8BUHHLfC97ZRdpN",
      "authorship_tag": "ABX9TyO4PrEkLxMuyWVN7k5kTboD",
      "include_colab_link": true
    },
    "kernelspec": {
      "name": "python3",
      "display_name": "Python 3"
    },
    "language_info": {
      "name": "python"
    }
  },
  "cells": [
    {
      "cell_type": "markdown",
      "metadata": {
        "id": "view-in-github",
        "colab_type": "text"
      },
      "source": [
        "<a href=\"https://colab.research.google.com/github/vgbarone/otca-realidade/blob/main/OTCA.ipynb\" target=\"_parent\"><img src=\"https://colab.research.google.com/assets/colab-badge.svg\" alt=\"Open In Colab\"/></a>"
      ]
    },
    {
      "cell_type": "code",
      "source": [
        "pip install -U -q google-generativeai"
      ],
      "metadata": {
        "id": "C1v37smiK6g6"
      },
      "execution_count": null,
      "outputs": []
    },
    {
      "cell_type": "code",
      "execution_count": null,
      "metadata": {
        "id": "0qK57CtgK2cB"
      },
      "outputs": [],
      "source": [
        "import google.generativeai as genai\n",
        "import json\n",
        "\n",
        "# Substitua \"SUA_API_KEY_AQUI\" pela sua chave de API do Google Gemini.\n",
        "GOOGLE_API_KEY = \"SUA GOOGLE API KEY\"\n",
        "genai.configure(api_key=GOOGLE_API_KEY)\n",
        "\n",
        "# Carrega o arquivo JSON com informações sobre a Lei de Crimes Ambientais\n",
        "with open('/content/drive/MyDrive/Colab Notebooks/OTCA/lei_crimes_ambientais.json', 'r') as f:\n",
        "    lei_data = json.load(f)\n",
        "\n",
        "generation_config = {\n",
        "  \"candidate_count\": 1,\n",
        "  \"temperature\": 0.5,\n",
        "}\n",
        "\n",
        "safety_settings = {\n",
        "    'HATE': 'BLOCK_NONE',\n",
        "    'HARASSMENT': 'BLOCK_NONE',\n",
        "    'SEXUAL': 'BLOCK_NONE',\n",
        "    'DANGEROUS': 'BLOCK_NONE'\n",
        "}\n",
        "\n",
        "model = genai.GenerativeModel(model_name='gemini-pro',\n",
        "                                  generation_config=generation_config,\n",
        "                                  safety_settings=safety_settings)\n",
        "\n",
        "chat = model.start_chat(history=[])\n",
        "\n",
        "# Função para buscar informações na Lei de Crimes Ambientais\n",
        "def encontrar_informacao_lei(pergunta):\n",
        "    for item in lei_data:\n",
        "        if any(keyword in pergunta.lower() for keyword in item['keywords']):\n",
        "            return item['informacao']\n",
        "    return None\n",
        "\n",
        "# Apresentação do chatbot\n",
        "print(\"Olá! Posso te ajudar a entender melhor a Lei de Crimes Ambientais.\")\n",
        "\n",
        "# Loop principal do chatbot\n",
        "while True:\n",
        "    mensagem = input(\"Faça sua pergunta:\")\n",
        "    if mensagem.lower() == 'sair':\n",
        "        break\n",
        "\n",
        "    informacao_lei = encontrar_informacao_lei(mensagem)\n",
        "    if informacao_lei:\n",
        "        prompt_gemini = f\"Aqui está uma pergunta sobre a Lei de Crimes Ambientais: {mensagem}\\n\\n Aqui está alguma informação relevante da lei: {informacao_lei}\\n\\n Por favor, responda a pergunta de forma informativa.\"\n",
        "    else:\n",
        "        prompt_gemini = f\"Aqui está uma pergunta sobre a Lei de Crimes Ambientais: {mensagem}\\n\\n Por favor, responda a pergunta da melhor forma possível.\"\n",
        "\n",
        "    response = chat.send_message(prompt_gemini)\n",
        "\n",
        "    print(\"OTCA:\", response.text)"
      ]
    }
  ]
}